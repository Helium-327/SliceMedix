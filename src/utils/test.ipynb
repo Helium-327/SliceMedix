{
 "cells": [
  {
   "cell_type": "code",
   "execution_count": 10,
   "metadata": {},
   "outputs": [],
   "source": [
    "h5_saved_dir = '/mnt/d/AI_Research/WS-Hub/Wsl-MedSeg/VoxelMedix/data/processed/brats21_h5'\n",
    "filename = 'test.h5'\n",
    "\n",
    "('/').join(h5_saved_dir.split('/')[:])"
   ]
  },
  {
   "cell_type": "code",
   "execution_count": 11,
   "metadata": {},
   "outputs": [],
   "source": [
    "import os\n",
    "\n",
    "def get_h5_paths(h5_saved_dir, filename):\n",
    "    h5_names = os.listdir(h5_saved_dir)\n",
    "    h5_dir = ('/').join(h5_saved_dir.split('/')[:])\n",
    "    h5_list = [os.path.join(h5_dir, name) for name in h5_names]\n",
    "    file_path = ('/').join(h5_saved_dir.split('/')[:-1])+'/'+filename\n",
    "    print(h5_list)\n",
    "    with open(file_path, 'w') as f:\n",
    "        for h5_path in h5_list:\n",
    "            f.write(h5_path)\n",
    "    print(f\"✨ {filename} Saved at {file_path}!!!\")\n",
    "\n",
    "dataset_path = '/root/workspace/Helium-327-SegBrats/brats21_local'\n",
    "h5_save_dir = '/root/workspace/Helium-327-SegBrats/brats21_h5/'"
   ]
  },
  {
   "cell_type": "code",
   "execution_count": 13,
   "metadata": {},
   "outputs": [],
   "source": [
    "get_h5_paths(h5_save_dir, 'h5_paths.csv')"
   ]
  },
  {
   "cell_type": "code",
   "execution_count": 1,
   "metadata": {},
   "outputs": [
    {
     "name": "stdout",
     "output_type": "stream",
     "text": [
      "torch.Size([16, 4, 128, 128]) torch.Size([16, 128, 128])\n",
      "torch.Size([16, 4, 128, 128])\n",
      "torch.Size([16, 128, 128])\n",
      "torch.Size([16, 4, 128, 128])\n"
     ]
    }
   ],
   "source": [
    "import torch\n",
    "\n",
    "data = torch.randn(16, 4, 128, 128)\n",
    "\n",
    "y_label = torch.randint(0, 2, (16, 128, 128))\n",
    "\n",
    "print(data.shape, y_label.shape)\n",
    "\n",
    "target_one_hot = torch.zeros_like(data)\n",
    "\n",
    "print(target_one_hot.shape)\n",
    "print(y_label.shape)\n",
    "\n",
    "target_one_hot = target_one_hot.scatter_(1, y_label.unsqueeze(1), 1)\n",
    "\n",
    "print(target_one_hot.shape)\n",
    "  "
   ]
  },
  {
   "cell_type": "code",
   "execution_count": 2,
   "metadata": {},
   "outputs": [
    {
     "name": "stdout",
     "output_type": "stream",
     "text": [
      "tensor([0., 1.])\n"
     ]
    }
   ],
   "source": [
    "print(target_one_hot.unique())"
   ]
  },
  {
   "cell_type": "code",
   "execution_count": 3,
   "metadata": {},
   "outputs": [],
   "source": [
    "et_pred = target_one_hot[:, 3, ...]\n",
    "tc_pred = target_one_hot[:, 1, ...] + target_one_hot[:, 3, ...]\n",
    "wt_pred = target_one_hot[:, 1:, ...].sum(dim=1)\n",
    "\n",
    "et_mask = target_one_hot[:, 3, ...]\n",
    "tc_mask = target_one_hot[:, 1, ...] + target_one_hot[:, 3, ...]\n",
    "wt_mask = target_one_hot[:, 1:, ...].sum(dim=1)\n",
    "\n",
    "\n"
   ]
  },
  {
   "cell_type": "code",
   "execution_count": null,
   "metadata": {},
   "outputs": [],
   "source": []
  }
 ],
 "metadata": {
  "kernelspec": {
   "display_name": "cv",
   "language": "python",
   "name": "python3"
  },
  "language_info": {
   "codemirror_mode": {
    "name": "ipython",
    "version": 3
   },
   "file_extension": ".py",
   "mimetype": "text/x-python",
   "name": "python",
   "nbconvert_exporter": "python",
   "pygments_lexer": "ipython3",
   "version": "3.10.14"
  }
 },
 "nbformat": 4,
 "nbformat_minor": 2
}
