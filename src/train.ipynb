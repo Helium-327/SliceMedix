{
 "cells": [
  {
   "cell_type": "code",
   "execution_count": 41,
   "metadata": {},
   "outputs": [],
   "source": [
    "import h5py\n",
    "from tqdm import tqdm"
   ]
  },
  {
   "cell_type": "code",
   "execution_count": 46,
   "metadata": {},
   "outputs": [
    {
     "name": "stderr",
     "output_type": "stream",
     "text": [
      "100%|██████████| 193905/193905 [1:15:53<00:00, 42.59it/s]\n"
     ]
    }
   ],
   "source": [
    "# read_lines_from_file\n",
    "import numpy as np\n",
    "\n",
    "def read_lines_from_file(file_path):\n",
    "    with open(file_path, 'r') as file:\n",
    "        paths = file.readlines()\n",
    "        lines_path = [path.strip() for path in paths]\n",
    "\n",
    "    return lines_path\n",
    "\n",
    "def read_from_h5(file_path):\n",
    "    with h5py.File(file_path, 'r') as file:\n",
    "        data = file['data'][:]\n",
    "        mask = file['mask'][:]\n",
    "    return data, mask\n",
    "\n",
    "def main(file_path):\n",
    "    paths = read_lines_from_file(file_path)\n",
    "    # print(len(paths))\n",
    "    with open(\"/root/workspace/SliceMedix/data/multi_h5_paths_select.txt\", 'w') as file:\n",
    "        for path in tqdm(paths):\n",
    "            data, mask = read_from_h5(path)\n",
    "            if mask.max() > 0:\n",
    "            # print(data.shape, mask.shape)\n",
    "                # print(np.unique(mask))\n",
    "                file.write(path + '\\n')\n",
    "    \n",
    "\n",
    "if __name__ == '__main__':\n",
    "    file_path='/root/workspace/SliceMedix/data/multi_h5_paths.txt'\n",
    "    main(file_path)\n",
    "\n"
   ]
  },
  {
   "cell_type": "code",
   "execution_count": null,
   "metadata": {},
   "outputs": [],
   "source": []
  },
  {
   "cell_type": "code",
   "execution_count": null,
   "metadata": {},
   "outputs": [],
   "source": []
  }
 ],
 "metadata": {
  "kernelspec": {
   "display_name": "cv",
   "language": "python",
   "name": "python3"
  },
  "language_info": {
   "codemirror_mode": {
    "name": "ipython",
    "version": 3
   },
   "file_extension": ".py",
   "mimetype": "text/x-python",
   "name": "python",
   "nbconvert_exporter": "python",
   "pygments_lexer": "ipython3",
   "version": "3.10.14"
  }
 },
 "nbformat": 4,
 "nbformat_minor": 2
}
